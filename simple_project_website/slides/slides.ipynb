{
 "cells": [
  {
   "cell_type": "code",
   "execution_count": null,
   "metadata": {},
   "outputs": [],
   "source": []
  },
  {
   "cell_type": "markdown",
   "metadata": {},
   "source": [
    "---\n",
    "title: \"Test file\"\n",
    "author: \"John Doe\"\n",
    "format: revealjs\n",
    "bibliography: ../reference.bib\n",
    "---\n",
    "\n"
   ]
  },
  {
   "cell_type": "markdown",
   "metadata": {},
   "source": [
    "##\n",
    "- Turn off alarm\n",
    "- Get out of bed\n",
    "- Download R studio\n",
    "- ![Rstudio](https://upload.wikimedia.org/wikipedia/commons/d/d0/RStudio_logo_flat.svg)\n",
    "\n",
    "##\n",
    "\n",
    "- Get in bed\n",
    "  - Write stuff in wikipedia\n",
    "  ![Wikipedia](https://upload.wikimedia.org/wikipedia/en/8/80/Wikipedia-logo-v2.svg)\n",
    "- Count sheep\n",
    "\n",
    "##\n",
    "\n",
    "- count goat\n",
    "- help people\n",
    "This is a an example of citation [see @sarker2021machine, pp. 33-35;\n",
    "also @liu2022convnet, chap. 1]\n"
   ]
  },
  {
   "cell_type": "markdown",
   "metadata": {},
   "source": [
    "---\n",
    "output:\n",
    "  html_document:\n",
    "    code_folding: hide\n",
    "---"
   ]
  },
  {
   "cell_type": "code",
   "execution_count": 2,
   "metadata": {},
   "outputs": [
    {
     "name": "stdout",
     "output_type": "stream",
     "text": [
      "hello world, code folding example\n"
     ]
    }
   ],
   "source": [
    "\n",
    "\n",
    "print(\"hello world, code folding example\")"
   ]
  }
 ],
 "metadata": {
  "kernelspec": {
   "display_name": "base",
   "language": "python",
   "name": "python3"
  },
  "language_info": {
   "codemirror_mode": {
    "name": "ipython",
    "version": 3
   },
   "file_extension": ".py",
   "mimetype": "text/x-python",
   "name": "python",
   "nbconvert_exporter": "python",
   "pygments_lexer": "ipython3",
   "version": "3.8.5"
  },
  "orig_nbformat": 4
 },
 "nbformat": 4,
 "nbformat_minor": 2
}
